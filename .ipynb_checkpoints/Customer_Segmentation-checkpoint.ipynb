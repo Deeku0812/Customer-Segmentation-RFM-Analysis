{
 "cells": [
  {
   "cell_type": "markdown",
   "id": "1c613ed9",
   "metadata": {},
   "source": [
    "# Customer Segmentation Using RFM Analysis"
   ]
  },
  {
   "cell_type": "markdown",
   "id": "71650cae",
   "metadata": {},
   "source": [
    "1. Importing Libraries\n"
   ]
  },
  {
   "cell_type": "code",
   "execution_count": 56,
   "id": "c351d6d6",
   "metadata": {},
   "outputs": [],
   "source": [
    "import numpy as np\n",
    "import pandas as pd\n",
    "import datetime as dt\n",
    "import seaborn as sns\n",
    "import matplotlib.pyplot as plt\n",
    "import warnings\n",
    "warnings.filterwarnings('ignore')"
   ]
  },
  {
   "cell_type": "code",
   "execution_count": 5,
   "id": "278d0b42",
   "metadata": {},
   "outputs": [],
   "source": [
    "orders = pd.read_excel('Customer-order.xlsx')"
   ]
  },
  {
   "cell_type": "code",
   "execution_count": 6,
   "id": "9a720ec9",
   "metadata": {},
   "outputs": [
    {
     "data": {
      "text/html": [
       "<div>\n",
       "<style scoped>\n",
       "    .dataframe tbody tr th:only-of-type {\n",
       "        vertical-align: middle;\n",
       "    }\n",
       "\n",
       "    .dataframe tbody tr th {\n",
       "        vertical-align: top;\n",
       "    }\n",
       "\n",
       "    .dataframe thead th {\n",
       "        text-align: right;\n",
       "    }\n",
       "</style>\n",
       "<table border=\"1\" class=\"dataframe\">\n",
       "  <thead>\n",
       "    <tr style=\"text-align: right;\">\n",
       "      <th></th>\n",
       "      <th>order_id</th>\n",
       "      <th>order_info_id</th>\n",
       "      <th>order_id_number</th>\n",
       "      <th>return_reason</th>\n",
       "      <th>order_date</th>\n",
       "      <th>order_weekday</th>\n",
       "      <th>order_month</th>\n",
       "      <th>ship_date</th>\n",
       "      <th>ship_mode</th>\n",
       "      <th>product_id</th>\n",
       "      <th>...</th>\n",
       "      <th>discount_over_30</th>\n",
       "      <th>region_id</th>\n",
       "      <th>postal_code</th>\n",
       "      <th>city</th>\n",
       "      <th>state</th>\n",
       "      <th>sub_region</th>\n",
       "      <th>salesperson</th>\n",
       "      <th>customer_id</th>\n",
       "      <th>customer_name</th>\n",
       "      <th>segment</th>\n",
       "    </tr>\n",
       "  </thead>\n",
       "  <tbody>\n",
       "    <tr>\n",
       "      <th>0</th>\n",
       "      <td>AE-2019-1231682</td>\n",
       "      <td>AE-2019</td>\n",
       "      <td>1231682</td>\n",
       "      <td>Not Returned</td>\n",
       "      <td>2019-12-18</td>\n",
       "      <td>Wednesday</td>\n",
       "      <td>December</td>\n",
       "      <td>2019-12-23</td>\n",
       "      <td>Second Class</td>\n",
       "      <td>TEC-MOT-10001535</td>\n",
       "      <td>...</td>\n",
       "      <td>1</td>\n",
       "      <td>1488</td>\n",
       "      <td>47374</td>\n",
       "      <td>Richmond</td>\n",
       "      <td>Indiana</td>\n",
       "      <td>Central United States</td>\n",
       "      <td>Annelise Williams</td>\n",
       "      <td>GH-4665</td>\n",
       "      <td>Greg Hansen</td>\n",
       "      <td>Consumer</td>\n",
       "    </tr>\n",
       "    <tr>\n",
       "      <th>1</th>\n",
       "      <td>AE-2019-1263608</td>\n",
       "      <td>AE-2019</td>\n",
       "      <td>1263608</td>\n",
       "      <td>Not Returned</td>\n",
       "      <td>2019-12-26</td>\n",
       "      <td>Thursday</td>\n",
       "      <td>December</td>\n",
       "      <td>2019-12-31</td>\n",
       "      <td>Second Class</td>\n",
       "      <td>OFF-AVE-10004827</td>\n",
       "      <td>...</td>\n",
       "      <td>1</td>\n",
       "      <td>1488</td>\n",
       "      <td>78745</td>\n",
       "      <td>Austin</td>\n",
       "      <td>Texas</td>\n",
       "      <td>Central United States</td>\n",
       "      <td>Annelise Williams</td>\n",
       "      <td>GH-4665</td>\n",
       "      <td>Greg Hansen</td>\n",
       "      <td>Consumer</td>\n",
       "    </tr>\n",
       "    <tr>\n",
       "      <th>2</th>\n",
       "      <td>AE-2019-303016</td>\n",
       "      <td>AE-2019</td>\n",
       "      <td>303016</td>\n",
       "      <td>Not Returned</td>\n",
       "      <td>2019-12-18</td>\n",
       "      <td>Wednesday</td>\n",
       "      <td>December</td>\n",
       "      <td>2019-12-23</td>\n",
       "      <td>Second Class</td>\n",
       "      <td>TEC-MOT-10001535</td>\n",
       "      <td>...</td>\n",
       "      <td>1</td>\n",
       "      <td>1488</td>\n",
       "      <td>52402</td>\n",
       "      <td>Cedar Rapids</td>\n",
       "      <td>Iowa</td>\n",
       "      <td>Central United States</td>\n",
       "      <td>Annelise Williams</td>\n",
       "      <td>GH-4665</td>\n",
       "      <td>Greg Hansen</td>\n",
       "      <td>Consumer</td>\n",
       "    </tr>\n",
       "    <tr>\n",
       "      <th>3</th>\n",
       "      <td>AE-2019-304471</td>\n",
       "      <td>AE-2019</td>\n",
       "      <td>304471</td>\n",
       "      <td>Not Returned</td>\n",
       "      <td>2019-12-27</td>\n",
       "      <td>Friday</td>\n",
       "      <td>December</td>\n",
       "      <td>2019-12-31</td>\n",
       "      <td>Second Class</td>\n",
       "      <td>TEC-MOT-10001535</td>\n",
       "      <td>...</td>\n",
       "      <td>1</td>\n",
       "      <td>1488</td>\n",
       "      <td>60653</td>\n",
       "      <td>Chicago</td>\n",
       "      <td>Illinois</td>\n",
       "      <td>Central United States</td>\n",
       "      <td>Annelise Williams</td>\n",
       "      <td>GH-4665</td>\n",
       "      <td>Greg Hansen</td>\n",
       "      <td>Consumer</td>\n",
       "    </tr>\n",
       "    <tr>\n",
       "      <th>4</th>\n",
       "      <td>AE-2019-3123605</td>\n",
       "      <td>AE-2019</td>\n",
       "      <td>3123605</td>\n",
       "      <td>Not Returned</td>\n",
       "      <td>2019-11-30</td>\n",
       "      <td>Saturday</td>\n",
       "      <td>November</td>\n",
       "      <td>2019-12-05</td>\n",
       "      <td>Second Class</td>\n",
       "      <td>OFF-ROG-10001340</td>\n",
       "      <td>...</td>\n",
       "      <td>1</td>\n",
       "      <td>1488</td>\n",
       "      <td>55901</td>\n",
       "      <td>Rochester</td>\n",
       "      <td>Minnesota</td>\n",
       "      <td>Central United States</td>\n",
       "      <td>Annelise Williams</td>\n",
       "      <td>PG-8820</td>\n",
       "      <td>Patrick Gardner</td>\n",
       "      <td>Consumer</td>\n",
       "    </tr>\n",
       "  </tbody>\n",
       "</table>\n",
       "<p>5 rows × 31 columns</p>\n",
       "</div>"
      ],
      "text/plain": [
       "          order_id order_info_id  order_id_number return_reason order_date  \\\n",
       "0  AE-2019-1231682       AE-2019          1231682  Not Returned 2019-12-18   \n",
       "1  AE-2019-1263608       AE-2019          1263608  Not Returned 2019-12-26   \n",
       "2   AE-2019-303016       AE-2019           303016  Not Returned 2019-12-18   \n",
       "3   AE-2019-304471       AE-2019           304471  Not Returned 2019-12-27   \n",
       "4  AE-2019-3123605       AE-2019          3123605  Not Returned 2019-11-30   \n",
       "\n",
       "  order_weekday order_month  ship_date     ship_mode        product_id  ...  \\\n",
       "0     Wednesday    December 2019-12-23  Second Class  TEC-MOT-10001535  ...   \n",
       "1      Thursday    December 2019-12-31  Second Class  OFF-AVE-10004827  ...   \n",
       "2     Wednesday    December 2019-12-23  Second Class  TEC-MOT-10001535  ...   \n",
       "3        Friday    December 2019-12-31  Second Class  TEC-MOT-10001535  ...   \n",
       "4      Saturday    November 2019-12-05  Second Class  OFF-ROG-10001340  ...   \n",
       "\n",
       "   discount_over_30 region_id postal_code          city     state   \\\n",
       "0                 1      1488       47374      Richmond    Indiana   \n",
       "1                 1      1488       78745        Austin      Texas   \n",
       "2                 1      1488       52402  Cedar Rapids       Iowa   \n",
       "3                 1      1488       60653       Chicago   Illinois   \n",
       "4                 1      1488       55901     Rochester  Minnesota   \n",
       "\n",
       "              sub_region        salesperson  customer_id    customer_name  \\\n",
       "0  Central United States  Annelise Williams      GH-4665      Greg Hansen   \n",
       "1  Central United States  Annelise Williams      GH-4665      Greg Hansen   \n",
       "2  Central United States  Annelise Williams      GH-4665      Greg Hansen   \n",
       "3  Central United States  Annelise Williams      GH-4665      Greg Hansen   \n",
       "4  Central United States  Annelise Williams      PG-8820  Patrick Gardner   \n",
       "\n",
       "    segment  \n",
       "0  Consumer  \n",
       "1  Consumer  \n",
       "2  Consumer  \n",
       "3  Consumer  \n",
       "4  Consumer  \n",
       "\n",
       "[5 rows x 31 columns]"
      ]
     },
     "execution_count": 6,
     "metadata": {},
     "output_type": "execute_result"
    }
   ],
   "source": [
    "orders.head()"
   ]
  },
  {
   "cell_type": "markdown",
   "id": "1e6b32c2",
   "metadata": {},
   "source": [
    "2. Extracting usefull columns from orders data "
   ]
  },
  {
   "cell_type": "code",
   "execution_count": 8,
   "id": "d63532cb",
   "metadata": {},
   "outputs": [
    {
     "data": {
      "text/html": [
       "<div>\n",
       "<style scoped>\n",
       "    .dataframe tbody tr th:only-of-type {\n",
       "        vertical-align: middle;\n",
       "    }\n",
       "\n",
       "    .dataframe tbody tr th {\n",
       "        vertical-align: top;\n",
       "    }\n",
       "\n",
       "    .dataframe thead th {\n",
       "        text-align: right;\n",
       "    }\n",
       "</style>\n",
       "<table border=\"1\" class=\"dataframe\">\n",
       "  <thead>\n",
       "    <tr style=\"text-align: right;\">\n",
       "      <th></th>\n",
       "      <th>order_date</th>\n",
       "      <th>order_id</th>\n",
       "      <th>customer_name</th>\n",
       "      <th>sales</th>\n",
       "    </tr>\n",
       "  </thead>\n",
       "  <tbody>\n",
       "    <tr>\n",
       "      <th>0</th>\n",
       "      <td>2019-12-18</td>\n",
       "      <td>AE-2019-1231682</td>\n",
       "      <td>Greg Hansen</td>\n",
       "      <td>95.80</td>\n",
       "    </tr>\n",
       "    <tr>\n",
       "      <th>1</th>\n",
       "      <td>2019-12-26</td>\n",
       "      <td>AE-2019-1263608</td>\n",
       "      <td>Greg Hansen</td>\n",
       "      <td>3.43</td>\n",
       "    </tr>\n",
       "    <tr>\n",
       "      <th>2</th>\n",
       "      <td>2019-12-18</td>\n",
       "      <td>AE-2019-303016</td>\n",
       "      <td>Greg Hansen</td>\n",
       "      <td>95.80</td>\n",
       "    </tr>\n",
       "    <tr>\n",
       "      <th>3</th>\n",
       "      <td>2019-12-27</td>\n",
       "      <td>AE-2019-304471</td>\n",
       "      <td>Greg Hansen</td>\n",
       "      <td>95.80</td>\n",
       "    </tr>\n",
       "    <tr>\n",
       "      <th>4</th>\n",
       "      <td>2019-11-30</td>\n",
       "      <td>AE-2019-3123605</td>\n",
       "      <td>Patrick Gardner</td>\n",
       "      <td>42.48</td>\n",
       "    </tr>\n",
       "  </tbody>\n",
       "</table>\n",
       "</div>"
      ],
      "text/plain": [
       "  order_date         order_id    customer_name  sales\n",
       "0 2019-12-18  AE-2019-1231682      Greg Hansen  95.80\n",
       "1 2019-12-26  AE-2019-1263608      Greg Hansen   3.43\n",
       "2 2019-12-18   AE-2019-303016      Greg Hansen  95.80\n",
       "3 2019-12-27   AE-2019-304471      Greg Hansen  95.80\n",
       "4 2019-11-30  AE-2019-3123605  Patrick Gardner  42.48"
      ]
     },
     "execution_count": 8,
     "metadata": {},
     "output_type": "execute_result"
    }
   ],
   "source": [
    "order_data = orders[['order_date','order_id', 'customer_name', 'sales']]\n",
    "order_data.head()"
   ]
  },
  {
   "cell_type": "markdown",
   "id": "bb5a7bae",
   "metadata": {},
   "source": [
    "# RFM Analysis\n",
    "We know that \n",
    "1. Recency=Persent_date - Last Invoice date\n",
    "2. Frequency = Count of order\n",
    "3. Monetary = Sum of total amount for each customer\n"
   ]
  },
  {
   "cell_type": "code",
   "execution_count": 17,
   "id": "ff6ce2b8",
   "metadata": {},
   "outputs": [],
   "source": [
    "Persent_date= dt.datetime(2019,12,31)\n",
    "order_data['order_data'] = pd.to_datetime(order_data['order_date'])"
   ]
  },
  {
   "cell_type": "code",
   "execution_count": 19,
   "id": "796620f5",
   "metadata": {},
   "outputs": [
    {
     "data": {
      "text/html": [
       "<div>\n",
       "<style scoped>\n",
       "    .dataframe tbody tr th:only-of-type {\n",
       "        vertical-align: middle;\n",
       "    }\n",
       "\n",
       "    .dataframe tbody tr th {\n",
       "        vertical-align: top;\n",
       "    }\n",
       "\n",
       "    .dataframe thead th {\n",
       "        text-align: right;\n",
       "    }\n",
       "</style>\n",
       "<table border=\"1\" class=\"dataframe\">\n",
       "  <thead>\n",
       "    <tr style=\"text-align: right;\">\n",
       "      <th></th>\n",
       "      <th>customer_name</th>\n",
       "      <th>Recency</th>\n",
       "      <th>Frequency</th>\n",
       "      <th>Monetary</th>\n",
       "    </tr>\n",
       "  </thead>\n",
       "  <tbody>\n",
       "    <tr>\n",
       "      <th>0</th>\n",
       "      <td>Aaron Bergman</td>\n",
       "      <td>109</td>\n",
       "      <td>22</td>\n",
       "      <td>7133.50</td>\n",
       "    </tr>\n",
       "    <tr>\n",
       "      <th>1</th>\n",
       "      <td>Aaron Hawkins</td>\n",
       "      <td>8</td>\n",
       "      <td>13</td>\n",
       "      <td>10466.90</td>\n",
       "    </tr>\n",
       "    <tr>\n",
       "      <th>2</th>\n",
       "      <td>Aaron Smayling</td>\n",
       "      <td>1</td>\n",
       "      <td>54</td>\n",
       "      <td>12079.31</td>\n",
       "    </tr>\n",
       "    <tr>\n",
       "      <th>3</th>\n",
       "      <td>Adam Bellavance</td>\n",
       "      <td>13</td>\n",
       "      <td>44</td>\n",
       "      <td>10822.28</td>\n",
       "    </tr>\n",
       "    <tr>\n",
       "      <th>4</th>\n",
       "      <td>Adam Hart</td>\n",
       "      <td>2</td>\n",
       "      <td>47</td>\n",
       "      <td>8975.52</td>\n",
       "    </tr>\n",
       "  </tbody>\n",
       "</table>\n",
       "</div>"
      ],
      "text/plain": [
       "     customer_name  Recency  Frequency  Monetary\n",
       "0    Aaron Bergman      109         22   7133.50\n",
       "1    Aaron Hawkins        8         13  10466.90\n",
       "2   Aaron Smayling        1         54  12079.31\n",
       "3  Adam Bellavance       13         44  10822.28\n",
       "4        Adam Hart        2         47   8975.52"
      ]
     },
     "execution_count": 19,
     "metadata": {},
     "output_type": "execute_result"
    }
   ],
   "source": [
    "RFM_Table = order_data.groupby('customer_name').agg({'order_date': lambda x: (Persent_date-x.max()).days,\n",
    "                                                      'order_id' : lambda x: len(x),\n",
    "                                                       'sales': lambda x: x.sum()\n",
    "                                                    \n",
    "                                                    })\n",
    "\n",
    "\n",
    "RFM_Table['order_date'] = RFM_Table['order_date'].astype(int)\n",
    "RFM_Table.rename(columns={'order_date': 'Recency', \n",
    "                         'order_id': 'Frequency', \n",
    "                         'sales': 'Monetary'}, inplace=True)\n",
    "\n",
    "RFM_Table.reset_index().head()\n"
   ]
  },
  {
   "cell_type": "code",
   "execution_count": 23,
   "id": "cb88c887",
   "metadata": {},
   "outputs": [
    {
     "data": {
      "text/plain": [
       "<AxesSubplot:xlabel='Recency', ylabel='Density'>"
      ]
     },
     "execution_count": 23,
     "metadata": {},
     "output_type": "execute_result"
    },
    {
     "data": {
      "image/png": "[encoded data removed]",
      "text/plain": [
       "<Figure size 432x288 with 1 Axes>"
      ]
     },
     "metadata": {
      "needs_background": "light"
     },
     "output_type": "display_data"
    }
   ],
   "source": [
    "#Plotting Recency Distribution\n",
    "Recency = RFM_Table['Recency']\n",
    "sns.distplot(Recency)"
   ]
  },
  {
   "cell_type": "code",
   "execution_count": 24,
   "id": "67ae0446",
   "metadata": {},
   "outputs": [
    {
     "data": {
      "text/plain": [
       "<AxesSubplot:xlabel='Frequency', ylabel='Density'>"
      ]
     },
     "execution_count": 24,
     "metadata": {},
     "output_type": "execute_result"
    },
    {
     "data": {
      "image/png": "[encoded data removed]",
      "text/plain": [
       "<Figure size 432x288 with 1 Axes>"
      ]
     },
     "metadata": {
      "needs_background": "light"
     },
     "output_type": "display_data"
    }
   ],
   "source": [
    "#Plotting Frequecny Distribution\n",
    "FR = RFM_Table['Frequency']\n",
    "sns.distplot(FR)"
   ]
  },
  {
   "cell_type": "code",
   "execution_count": 25,
   "id": "57ff0f02",
   "metadata": {},
   "outputs": [
    {
     "data": {
      "text/plain": [
       "<AxesSubplot:xlabel='Monetary', ylabel='Density'>"
      ]
     },
     "execution_count": 25,
     "metadata": {},
     "output_type": "execute_result"
    },
    {
     "data": {
      "image/png": "[encoded data removed]",
      "text/plain": [
       "<Figure size 432x288 with 1 Axes>"
      ]
     },
     "metadata": {
      "needs_background": "light"
     },
     "output_type": "display_data"
    }
   ],
   "source": [
    "#Plotting Monetary Distribution\n",
    "Mn = RFM_Table['Monetary']\n",
    "sns.distplot(Mn)"
   ]
  },
  {
   "cell_type": "markdown",
   "id": "c5d1706e",
   "metadata": {},
   "source": [
    "# Segment\n",
    "\n",
    "We did our segmentation based on the quartile range\n"
   ]
  },
  {
   "cell_type": "code",
   "execution_count": 28,
   "id": "c0aaa13f",
   "metadata": {},
   "outputs": [],
   "source": [
    "IQR = RFM_Table.quantile(q=[0.25,0.5,0.75])\n",
    "IQR = IQR.to_dict()"
   ]
  },
  {
   "cell_type": "code",
   "execution_count": 29,
   "id": "ec95b431",
   "metadata": {},
   "outputs": [],
   "source": [
    "# Creating RFM segment\n",
    "# Arguments (x = value, RFM = recency, monetary_value, frequency, IQR = quartiles dict)\n",
    "\n",
    "def R(x,RFM,IQR):\n",
    "    if x <= IQR[RFM][0.25]:\n",
    "        return 1\n",
    "    elif x <= IQR[RFM][0.50]:\n",
    "        return 2\n",
    "    elif x <= IQR[RFM][0.75]: \n",
    "        return 3\n",
    "    else:\n",
    "        return 4\n",
    "    \n",
    "# Arguments (x = value, RFM = recency, monetary_value, frequency, IQR = quartiles dict)\n",
    "def FM(x,RFM,IQR):\n",
    "    if x <= IQR[RFM][0.25]:\n",
    "        return 4\n",
    "    elif x <= IQR[RFM][0.50]:\n",
    "        return 3\n",
    "    elif x <= IQR[RFM][0.75]: \n",
    "        return 2\n",
    "    else:\n",
    "        return 1\n",
    "        "
   ]
  },
  {
   "cell_type": "code",
   "execution_count": 31,
   "id": "f1ebc588",
   "metadata": {},
   "outputs": [],
   "source": [
    "# Adding RFM values to extisting data\n",
    "RFM_Table['R'] = RFM_Table['Recency'].apply(R, args=('Recency',IQR,))\n",
    "RFM_Table['F'] = RFM_Table['Frequency'].apply(FM, args=('Frequency',IQR,))\n",
    "RFM_Table['M'] = RFM_Table['Monetary'].apply(FM, args=('Monetary',IQR,))"
   ]
  },
  {
   "cell_type": "code",
   "execution_count": 38,
   "id": "3e0d97dd",
   "metadata": {},
   "outputs": [],
   "source": [
    "# Calculating RFM Class & Score\n",
    "Class = RFM_Table.R.map(str) + RFM_Table.F.map(str) + RFM_Table.M.map(str)\n",
    "Score = RFM_Table[['R', 'F', 'M']].sum(axis=1)\n",
    "#Adding Class to the extisting data\n",
    "RFM_Table['RFM_Class'] = Class\n",
    "RFM_Table['RFM_Score'] = Score"
   ]
  },
  {
   "cell_type": "code",
   "execution_count": 39,
   "id": "60ba3d00",
   "metadata": {},
   "outputs": [
    {
     "data": {
      "text/html": [
       "<div>\n",
       "<style scoped>\n",
       "    .dataframe tbody tr th:only-of-type {\n",
       "        vertical-align: middle;\n",
       "    }\n",
       "\n",
       "    .dataframe tbody tr th {\n",
       "        vertical-align: top;\n",
       "    }\n",
       "\n",
       "    .dataframe thead th {\n",
       "        text-align: right;\n",
       "    }\n",
       "</style>\n",
       "<table border=\"1\" class=\"dataframe\">\n",
       "  <thead>\n",
       "    <tr style=\"text-align: right;\">\n",
       "      <th></th>\n",
       "      <th>Recency</th>\n",
       "      <th>Frequency</th>\n",
       "      <th>Monetary</th>\n",
       "      <th>R</th>\n",
       "      <th>F</th>\n",
       "      <th>M</th>\n",
       "      <th>RFM_Class</th>\n",
       "      <th>RFM_Score</th>\n",
       "    </tr>\n",
       "    <tr>\n",
       "      <th>customer_name</th>\n",
       "      <th></th>\n",
       "      <th></th>\n",
       "      <th></th>\n",
       "      <th></th>\n",
       "      <th></th>\n",
       "      <th></th>\n",
       "      <th></th>\n",
       "      <th></th>\n",
       "    </tr>\n",
       "  </thead>\n",
       "  <tbody>\n",
       "    <tr>\n",
       "      <th>Aaron Bergman</th>\n",
       "      <td>109</td>\n",
       "      <td>22</td>\n",
       "      <td>7133.50</td>\n",
       "      <td>4</td>\n",
       "      <td>4</td>\n",
       "      <td>2</td>\n",
       "      <td>442</td>\n",
       "      <td>10</td>\n",
       "    </tr>\n",
       "    <tr>\n",
       "      <th>Aaron Hawkins</th>\n",
       "      <td>8</td>\n",
       "      <td>13</td>\n",
       "      <td>10466.90</td>\n",
       "      <td>2</td>\n",
       "      <td>4</td>\n",
       "      <td>1</td>\n",
       "      <td>241</td>\n",
       "      <td>7</td>\n",
       "    </tr>\n",
       "    <tr>\n",
       "      <th>Aaron Smayling</th>\n",
       "      <td>1</td>\n",
       "      <td>54</td>\n",
       "      <td>12079.31</td>\n",
       "      <td>1</td>\n",
       "      <td>1</td>\n",
       "      <td>1</td>\n",
       "      <td>111</td>\n",
       "      <td>3</td>\n",
       "    </tr>\n",
       "    <tr>\n",
       "      <th>Adam Bellavance</th>\n",
       "      <td>13</td>\n",
       "      <td>44</td>\n",
       "      <td>10822.28</td>\n",
       "      <td>3</td>\n",
       "      <td>1</td>\n",
       "      <td>1</td>\n",
       "      <td>311</td>\n",
       "      <td>5</td>\n",
       "    </tr>\n",
       "    <tr>\n",
       "      <th>Adam Hart</th>\n",
       "      <td>2</td>\n",
       "      <td>47</td>\n",
       "      <td>8975.52</td>\n",
       "      <td>1</td>\n",
       "      <td>1</td>\n",
       "      <td>2</td>\n",
       "      <td>112</td>\n",
       "      <td>4</td>\n",
       "    </tr>\n",
       "  </tbody>\n",
       "</table>\n",
       "</div>"
      ],
      "text/plain": [
       "                 Recency  Frequency  Monetary  R  F  M RFM_Class  RFM_Score\n",
       "customer_name                                                              \n",
       "Aaron Bergman        109         22   7133.50  4  4  2       442         10\n",
       "Aaron Hawkins          8         13  10466.90  2  4  1       241          7\n",
       "Aaron Smayling         1         54  12079.31  1  1  1       111          3\n",
       "Adam Bellavance       13         44  10822.28  3  1  1       311          5\n",
       "Adam Hart              2         47   8975.52  1  1  2       112          4"
      ]
     },
     "execution_count": 39,
     "metadata": {},
     "output_type": "execute_result"
    }
   ],
   "source": [
    "RFM_Table.head()"
   ]
  },
  {
   "cell_type": "markdown",
   "id": "034bb0e6",
   "metadata": {},
   "source": [
    "# Segmentation Categories\n"
   ]
  },
  {
   "cell_type": "code",
   "execution_count": 45,
   "id": "543d1c58",
   "metadata": {},
   "outputs": [],
   "source": [
    "Categories = ['Platinum', 'Gold', 'Silver', 'Bronze']\n",
    "Value=pd.qcut(RFM_Table.RFM_Score, q=4, labels=Categories)\n",
    "RFM_Table['Segment'] = Value.values"
   ]
  },
  {
   "cell_type": "code",
   "execution_count": 48,
   "id": "4e7b4028",
   "metadata": {},
   "outputs": [
    {
     "data": {
      "text/html": [
       "<div>\n",
       "<style scoped>\n",
       "    .dataframe tbody tr th:only-of-type {\n",
       "        vertical-align: middle;\n",
       "    }\n",
       "\n",
       "    .dataframe tbody tr th {\n",
       "        vertical-align: top;\n",
       "    }\n",
       "\n",
       "    .dataframe thead th {\n",
       "        text-align: right;\n",
       "    }\n",
       "</style>\n",
       "<table border=\"1\" class=\"dataframe\">\n",
       "  <thead>\n",
       "    <tr style=\"text-align: right;\">\n",
       "      <th></th>\n",
       "      <th>customer_name</th>\n",
       "      <th>Recency</th>\n",
       "      <th>Frequency</th>\n",
       "      <th>Monetary</th>\n",
       "      <th>R</th>\n",
       "      <th>F</th>\n",
       "      <th>M</th>\n",
       "      <th>RFM_Class</th>\n",
       "      <th>RFM_Score</th>\n",
       "      <th>Segment</th>\n",
       "    </tr>\n",
       "  </thead>\n",
       "  <tbody>\n",
       "    <tr>\n",
       "      <th>0</th>\n",
       "      <td>Aaron Bergman</td>\n",
       "      <td>109</td>\n",
       "      <td>22</td>\n",
       "      <td>7133.50</td>\n",
       "      <td>4</td>\n",
       "      <td>4</td>\n",
       "      <td>2</td>\n",
       "      <td>442</td>\n",
       "      <td>10</td>\n",
       "      <td>Bronze</td>\n",
       "    </tr>\n",
       "    <tr>\n",
       "      <th>1</th>\n",
       "      <td>Aaron Hawkins</td>\n",
       "      <td>8</td>\n",
       "      <td>13</td>\n",
       "      <td>10466.90</td>\n",
       "      <td>2</td>\n",
       "      <td>4</td>\n",
       "      <td>1</td>\n",
       "      <td>241</td>\n",
       "      <td>7</td>\n",
       "      <td>Gold</td>\n",
       "    </tr>\n",
       "    <tr>\n",
       "      <th>2</th>\n",
       "      <td>Aaron Smayling</td>\n",
       "      <td>1</td>\n",
       "      <td>54</td>\n",
       "      <td>12079.31</td>\n",
       "      <td>1</td>\n",
       "      <td>1</td>\n",
       "      <td>1</td>\n",
       "      <td>111</td>\n",
       "      <td>3</td>\n",
       "      <td>Platinum</td>\n",
       "    </tr>\n",
       "    <tr>\n",
       "      <th>3</th>\n",
       "      <td>Adam Bellavance</td>\n",
       "      <td>13</td>\n",
       "      <td>44</td>\n",
       "      <td>10822.28</td>\n",
       "      <td>3</td>\n",
       "      <td>1</td>\n",
       "      <td>1</td>\n",
       "      <td>311</td>\n",
       "      <td>5</td>\n",
       "      <td>Platinum</td>\n",
       "    </tr>\n",
       "    <tr>\n",
       "      <th>4</th>\n",
       "      <td>Adam Hart</td>\n",
       "      <td>2</td>\n",
       "      <td>47</td>\n",
       "      <td>8975.52</td>\n",
       "      <td>1</td>\n",
       "      <td>1</td>\n",
       "      <td>2</td>\n",
       "      <td>112</td>\n",
       "      <td>4</td>\n",
       "      <td>Platinum</td>\n",
       "    </tr>\n",
       "  </tbody>\n",
       "</table>\n",
       "</div>"
      ],
      "text/plain": [
       "     customer_name  Recency  Frequency  Monetary  R  F  M RFM_Class  \\\n",
       "0    Aaron Bergman      109         22   7133.50  4  4  2       442   \n",
       "1    Aaron Hawkins        8         13  10466.90  2  4  1       241   \n",
       "2   Aaron Smayling        1         54  12079.31  1  1  1       111   \n",
       "3  Adam Bellavance       13         44  10822.28  3  1  1       311   \n",
       "4        Adam Hart        2         47   8975.52  1  1  2       112   \n",
       "\n",
       "   RFM_Score   Segment  \n",
       "0         10    Bronze  \n",
       "1          7      Gold  \n",
       "2          3  Platinum  \n",
       "3          5  Platinum  \n",
       "4          4  Platinum  "
      ]
     },
     "execution_count": 48,
     "metadata": {},
     "output_type": "execute_result"
    }
   ],
   "source": [
    "RFM_Table.reset_index().head()"
   ]
  },
  {
   "cell_type": "code",
   "execution_count": 129,
   "id": "fb159ab8",
   "metadata": {},
   "outputs": [],
   "source": [
    "data = RFM_Table"
   ]
  },
  {
   "cell_type": "code",
   "execution_count": 136,
   "id": "9c7dcd60",
   "metadata": {},
   "outputs": [
    {
     "data": {
      "text/plain": [
       "array([[   22.  ,  7133.5 ],\n",
       "       [   13.  , 10466.9 ],\n",
       "       [   54.  , 12079.31],\n",
       "       ...,\n",
       "       [   18.  ,  8189.79],\n",
       "       [   45.  ,  9874.01],\n",
       "       [   16.  ,  2658.02]])"
      ]
     },
     "execution_count": 136,
     "metadata": {},
     "output_type": "execute_result"
    }
   ],
   "source": [
    "clustring_data=data.iloc[:, 1:3].values\n",
    "clustring_data"
   ]
  },
  {
   "cell_type": "markdown",
   "id": "772ff654",
   "metadata": {},
   "source": [
    "# KMean Clustring For segmentation \n",
    "1. Elbow method for validation of cluster"
   ]
  },
  {
   "cell_type": "code",
   "execution_count": 137,
   "id": "4169b72b",
   "metadata": {},
   "outputs": [],
   "source": [
    "from sklearn.cluster import KMeans\n",
    "wcss=[]\n",
    "for i in range(1,11):\n",
    "    kmeans=KMeans(n_clusters=i, init='k-means++', random_state=0)\n",
    "    kmeans.fit(clustring_data)\n",
    "    wcss.append(kmeans.inertia_)\n",
    "\n",
    "    "
   ]
  },
  {
   "cell_type": "code",
   "execution_count": 138,
   "id": "0da16433",
   "metadata": {},
   "outputs": [
    {
     "data": {
      "image/png": "[encoded data removed]",
      "text/plain": [
       "<Figure size 432x288 with 1 Axes>"
      ]
     },
     "metadata": {
      "needs_background": "light"
     },
     "output_type": "display_data"
    }
   ],
   "source": [
    "# Plot \n",
    "plt.plot(range(1,11), wcss)\n",
    "plt.title('The elbow method')\n",
    "plt.xlabel('Number of cluster')\n",
    "plt.ylabel('WCSS value')\n",
    "plt.show()"
   ]
  },
  {
   "cell_type": "code",
   "execution_count": 144,
   "id": "e3bcfa8a",
   "metadata": {},
   "outputs": [],
   "source": [
    "kmeans_model = KMeans(n_clusters=4, init='k-means++', random_state=0)\n"
   ]
  },
  {
   "cell_type": "code",
   "execution_count": 145,
   "id": "7e75cfda",
   "metadata": {},
   "outputs": [],
   "source": [
    "y_kmeans = kmeans_model.fit_predict(clustring_data)"
   ]
  },
  {
   "cell_type": "code",
   "execution_count": 146,
   "id": "ef3dd8be",
   "metadata": {},
   "outputs": [
    {
     "data": {
      "image/png": "[encoded data removed]",
      "text/plain": [
       "<Figure size 432x288 with 1 Axes>"
      ]
     },
     "metadata": {
      "needs_background": "light"
     },
     "output_type": "display_data"
    }
   ],
   "source": [
    "plt.scatter(clustring_data[y_kmeans==0,0], clustring_data[y_kmeans==0,1], s=70, c='red', label='Platinum')\n",
    "plt.scatter(clustring_data[y_kmeans==1,0], clustring_data[y_kmeans==1,1], s=70, c='yellow', label='Gold')\n",
    "plt.scatter(clustring_data[y_kmeans==2,0], clustring_data[y_kmeans==2,1], s=70, c='blue', label='Silver')\n",
    "plt.scatter(clustring_data[y_kmeans==3,0], clustring_data[y_kmeans==3,1], s=70, c='cyan', label='Bronze')\n",
    "plt.scatter(kmeans.cluster_centers_[:,0], kmeans.cluster_centers_[:,1], s=100, c='black', label='Centroids')\n",
    "plt.title('Segmentation of Customer')\n",
    "plt.legend()\n",
    "plt.show()"
   ]
  },
  {
   "cell_type": "markdown",
   "id": "98c01010",
   "metadata": {},
   "source": [
    "# Extracting RFM Table\n"
   ]
  },
  {
   "cell_type": "code",
   "execution_count": 49,
   "id": "ec38c5f7",
   "metadata": {},
   "outputs": [],
   "source": [
    "# RFM_Table.to_csv('RFM-Table.cvs',sep=',')"
   ]
  },
  {
   "cell_type": "code",
   "execution_count": null,
   "id": "3ecb996b",
   "metadata": {},
   "outputs": [],
   "source": []
  }
 ],
 "metadata": {
  "kernelspec": {
   "display_name": "Python 3 (ipykernel)",
   "language": "python",
   "name": "python3"
  },
  "language_info": {
   "codemirror_mode": {
    "name": "ipython",
    "version": 3
   },
   "file_extension": ".py",
   "mimetype": "text/x-python",
   "name": "python",
   "nbconvert_exporter": "python",
   "pygments_lexer": "ipython3",
   "version": "3.9.12"
  }
 },
 "nbformat": 4,
 "nbformat_minor": 5
}
